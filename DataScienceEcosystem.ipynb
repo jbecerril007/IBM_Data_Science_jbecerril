{
 "cells": [
  {
   "cell_type": "markdown",
   "id": "9ad5572a",
   "metadata": {},
   "source": [
    "# Data Science Tools and Ecosystem (Exercise 2)"
   ]
  },
  {
   "cell_type": "code",
   "execution_count": null,
   "id": "3ce0d80c",
   "metadata": {},
   "outputs": [],
   "source": []
  },
  {
   "cell_type": "markdown",
   "id": "99c604e0",
   "metadata": {},
   "source": [
    "# Introduction: In this notebook, Data Science and Ecosystem are summarized (Exercise 3)"
   ]
  },
  {
   "cell_type": "code",
   "execution_count": null,
   "id": "ea957c10",
   "metadata": {},
   "outputs": [],
   "source": []
  },
  {
   "cell_type": "markdown",
   "id": "fb318bdc",
   "metadata": {},
   "source": [
    "# Objectives (Excersice 10):\n",
    "- Learn languages for data science\n",
    "- Learn libraries for data science\n",
    "- Learn open source IDE"
   ]
  },
  {
   "cell_type": "code",
   "execution_count": null,
   "id": "062b7a49",
   "metadata": {},
   "outputs": [],
   "source": []
  },
  {
   "cell_type": "markdown",
   "id": "2024ed1a",
   "metadata": {},
   "source": [
    "# Some of the popular languages that Data Scientists use are (Exercise 4):\n",
    "\n",
    "1. Python\n",
    "2. R\n",
    "3. SQL"
   ]
  },
  {
   "cell_type": "markdown",
   "id": "c42558e3",
   "metadata": {},
   "source": []
  },
  {
   "cell_type": "markdown",
   "id": "531006d9",
   "metadata": {},
   "source": [
    "# Some of the commoly used libraries used by Data Scientists incluide (Exercise 5):\n",
    "\n",
    "1. Pandas\n",
    "2. NumPy\n",
    "3. Matplotlib"
   ]
  },
  {
   "cell_type": "markdown",
   "id": "b1ce9f4c",
   "metadata": {},
   "source": []
  },
  {
   "cell_type": "markdown",
   "id": "f2f05fcd",
   "metadata": {},
   "source": [
    "# Data Science Tools (Exercise 6):\n",
    "\n",
    "|Data Science Tools|\n",
    "|------------------|\n",
    "|RStudio|\n",
    "|Visual Code|\n",
    "|Jupyter|"
   ]
  },
  {
   "cell_type": "markdown",
   "id": "581c8b44",
   "metadata": {},
   "source": []
  },
  {
   "cell_type": "markdown",
   "id": "9e367eb5",
   "metadata": {},
   "source": [
    "### Below are a few examples of evaluating arithmetic expressions in Python (Excercise 7):"
   ]
  },
  {
   "cell_type": "code",
   "execution_count": null,
   "id": "8b954be0",
   "metadata": {},
   "outputs": [],
   "source": []
  },
  {
   "cell_type": "code",
   "execution_count": 10,
   "id": "18b29df5",
   "metadata": {},
   "outputs": [
    {
     "data": {
      "text/plain": [
       "17"
      ]
     },
     "execution_count": 10,
     "metadata": {},
     "output_type": "execute_result"
    }
   ],
   "source": [
    "#This a simple arithmetic expression to multiply then add integers (Excersice 8):\n",
    "(3 * 4) + 5"
   ]
  },
  {
   "cell_type": "code",
   "execution_count": null,
   "id": "ae7a2684",
   "metadata": {},
   "outputs": [],
   "source": []
  },
  {
   "cell_type": "code",
   "execution_count": 11,
   "id": "f5736c31",
   "metadata": {},
   "outputs": [
    {
     "data": {
      "text/plain": [
       "3.3333333333333335"
      ]
     },
     "execution_count": 11,
     "metadata": {},
     "output_type": "execute_result"
    }
   ],
   "source": [
    "#This will convert 200 minutes to hours by diving by 60 (Exercise 9):\n",
    "200 / 60"
   ]
  },
  {
   "cell_type": "code",
   "execution_count": null,
   "id": "4a1f11be",
   "metadata": {},
   "outputs": [],
   "source": []
  },
  {
   "cell_type": "markdown",
   "id": "9899f85d",
   "metadata": {},
   "source": [
    "## Author (Excersice 11):\n",
    "###### Jair Eduardo Becerril Torres"
   ]
  },
  {
   "cell_type": "code",
   "execution_count": null,
   "id": "b25d0681",
   "metadata": {},
   "outputs": [],
   "source": []
  }
 ],
 "metadata": {
  "kernelspec": {
   "display_name": "Python 3 (ipykernel)",
   "language": "python",
   "name": "python3"
  },
  "language_info": {
   "codemirror_mode": {
    "name": "ipython",
    "version": 3
   },
   "file_extension": ".py",
   "mimetype": "text/x-python",
   "name": "python",
   "nbconvert_exporter": "python",
   "pygments_lexer": "ipython3",
   "version": "3.11.3"
  }
 },
 "nbformat": 4,
 "nbformat_minor": 5
}
